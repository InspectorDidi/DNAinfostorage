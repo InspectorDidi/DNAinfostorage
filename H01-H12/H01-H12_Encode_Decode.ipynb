{
 "cells": [
  {
   "cell_type": "code",
   "execution_count": 1,
   "metadata": {
    "collapsed": true
   },
   "outputs": [],
   "source": [
    "import seaborn as sns\n",
    "import pandas as pd\n",
    "import matplotlib.pyplot as plt\n",
    "from pylab import rcParams\n",
    "import numpy as np\n",
    "import glob, os\n",
    "%matplotlib inline  \n",
    "plt.rcParams['svg.fonttype'] = 'none'\n",
    "from re import sub\n"
   ]
  },
  {
   "cell_type": "code",
   "execution_count": 2,
   "metadata": {
    "collapsed": false
   },
   "outputs": [],
   "source": [
    "#function input previous base, desired trit\n",
    "def nextBase(prevBase, wantedTrit):\n",
    "    transitionTable = {'A0':'G', 'A1':'C', 'A2':'T','C0':'T', 'C1':'G', 'C2':'A','G0':'A', 'G1':'T', 'G2':'C','T0':'C', 'T1':'A', 'T2':'G'}\n",
    "\n",
    "    return transitionTable[prevBase+str(wantedTrit)]"
   ]
  },
  {
   "cell_type": "code",
   "execution_count": 3,
   "metadata": {
    "collapsed": false,
    "scrolled": true
   },
   "outputs": [
    {
     "data": {
      "text/plain": [
       "['A', 'G', 'A', 'C', 'T', 'G', 'T', 'G']"
      ]
     },
     "execution_count": 3,
     "metadata": {},
     "output_type": "execute_result"
    }
   ],
   "source": [
    "def encodeStr(inputInfo_string):\n",
    "    inputInfo = [int(s) for s in list(inputInfo_string)]\n",
    "    outStr = []\n",
    "    for i in range(len(inputInfo)):\n",
    "        if(i==0):\n",
    "            prevBase = 'G'\n",
    "        else:\n",
    "            prevBase = outStr[i-1]\n",
    "        currtrit = inputInfo[i]\n",
    "\n",
    "        outStr.append(nextBase(prevBase,currtrit))\n",
    "    return outStr\n",
    "\n",
    "encodeStr(\"00010212\")"
   ]
  },
  {
   "cell_type": "code",
   "execution_count": 4,
   "metadata": {
    "collapsed": false
   },
   "outputs": [
    {
     "name": "stdout",
     "output_type": "stream",
     "text": [
      "00010212 AGACTGTG\n",
      "00110202 AGTAGCTG\n",
      "00211000 AGCGTCTC\n",
      "01011000 ACTACTCT\n",
      "01111010 ACGTAGTC\n",
      "01201012 ACAGTCGC\n",
      "02011102 ATCGTAGC\n",
      "02111010 ATACGACT\n",
      "02211020 ATGTAGCT\n",
      "10011000 TCTACTCT\n",
      "10110201 TCGTCAGT\n",
      "10201020 TCAGTCAG\n"
     ]
    }
   ],
   "source": [
    "hello_world = [\"00010212\",\"00110202\",\"00211000\",\"01011000\",\"01111010\",\"01201012\",\n",
    "               \"02011102\",\"02111010\",\"02211020\",\"10011000\",\"10110201\",\"10201020\"]\n",
    "\n",
    "for string in hello_world:\n",
    "    print(string,''.join(encodeStr(string)))"
   ]
  },
  {
   "cell_type": "code",
   "execution_count": 5,
   "metadata": {},
   "outputs": [],
   "source": [
    "\n",
    "####\n",
    "#### Decoding by 2-step filter rule: \n",
    "#### 1. Template architecture (length, terminal base)\n",
    "#### 2. Most frequent\n",
    "####"
   ]
  },
  {
   "cell_type": "code",
   "execution_count": 6,
   "metadata": {
    "collapsed": true
   },
   "outputs": [],
   "source": [
    "data = pd.read_csv(\"H01-H12_dataTable.csv\",sep=\",\", header=0,\n",
    "           dtype={\"template_ID\":str,\"match\":int,\"template\":str,\"strandC\":str,\"strandR\":str,\"strandR_len\":int,\"strandC_len\":int,\"template_align\":str,\"strand_align\":str})"
   ]
  },
  {
   "cell_type": "code",
   "execution_count": null,
   "metadata": {},
   "outputs": [],
   "source": [
    "def findpossiblehits(row):\n",
    "    curr_seq = row['strandC']\n",
    "    desired_seq = row['template']\n",
    "    \n",
    "    # filter rule - look for strands of a set length and the desired terminal 'C'\n",
    "    if((len(curr_seq) == len(desired_seq)) and len(curr_seq)>0 and (curr_seq[-1] is desired_seq[-1])):\n",
    "        return 1\n",
    "    else:\n",
    "        return 0\n"
   ]
  },
  {
   "cell_type": "code",
   "execution_count": null,
   "metadata": {},
   "outputs": [],
   "source": [
    "data[\"possiblehit\"] = data.apply(findpossiblehits,axis=1)"
   ]
  },
  {
   "cell_type": "code",
   "execution_count": null,
   "metadata": {},
   "outputs": [],
   "source": [
    "def decoding(df, templateID):\n",
    "    currdf = df[df[\"template_ID\"]==templateID]\n",
    "    currdf_possiblehits  = currdf[currdf[\"possiblehit\"]==1]\n",
    "    print(templateID,currdf.iloc[0][\"template\"])\n",
    "    print(currdf_possiblehits['strandC'].value_counts(ascending=False).head(5).to_frame(),\"\\n\\n\")"
   ]
  },
  {
   "cell_type": "code",
   "execution_count": null,
   "metadata": {},
   "outputs": [],
   "source": [
    "templates_to_decode = ['H01','H02','H03','H04','H05','H06','H07','H08','H09','H10','H11','H12']\n",
    "\n",
    "for template in templates_to_decode: \n",
    "    decoding(data,template)\n",
    "\n"
   ]
  },
  {
   "cell_type": "code",
   "execution_count": null,
   "metadata": {},
   "outputs": [],
   "source": []
  }
 ],
 "metadata": {
  "kernelspec": {
   "display_name": "Python 3",
   "language": "python",
   "name": "python3"
  },
  "language_info": {
   "codemirror_mode": {
    "name": "ipython",
    "version": 3
   },
   "file_extension": ".py",
   "mimetype": "text/x-python",
   "name": "python",
   "nbconvert_exporter": "python",
   "pygments_lexer": "ipython3",
   "version": "3.6.4"
  }
 },
 "nbformat": 4,
 "nbformat_minor": 2
}
